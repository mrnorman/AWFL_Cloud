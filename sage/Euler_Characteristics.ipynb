{
 "cells": [
  {
   "cell_type": "code",
   "execution_count": 1,
   "metadata": {},
   "outputs": [],
   "source": [
    "def coefs_1d(N,N0,lab) :\n",
    "    return vector([ var(lab+'%s'%i) for i in range(N0,N0+N) ])\n",
    "\n",
    "latex.matrix_delimiters(\"[\", \"]\")\n"
   ]
  },
  {
   "cell_type": "code",
   "execution_count": 2,
   "metadata": {},
   "outputs": [
    {
     "data": {
      "text/html": [
       "<html><script type=\"math/tex; mode=display\">\\newcommand{\\Bold}[1]{\\mathbf{#1}}\\left[\\begin{array}{rrrrr}\n",
       "0 & 1 & 0 & 0 & 0 \\\\\n",
       "-u^{2} & 2 \\, u & 0 & 0 & \\frac{\\mathit{cs}^{2}}{\\theta} \\\\\n",
       "-u v & v & u & 0 & 0 \\\\\n",
       "-u w & w & 0 & u & 0 \\\\\n",
       "-\\theta u & \\theta & 0 & 0 & u\n",
       "\\end{array}\\right]</script></html>"
      ],
      "text/plain": [
       "[         0          1          0          0          0]\n",
       "[      -u^2        2*u          0          0 cs^2/theta]\n",
       "[      -u*v          v          u          0          0]\n",
       "[      -u*w          w          0          u          0]\n",
       "[  -theta*u      theta          0          0          u]"
      ]
     },
     "metadata": {},
     "output_type": "display_data"
    },
    {
     "data": {
      "text/html": [
       "<html><script type=\"math/tex; mode=display\">\\newcommand{\\Bold}[1]{\\mathbf{#1}}\\left[\\begin{array}{rrrrr}\n",
       "u & 0 & 0 & 0 & 0 \\\\\n",
       "0 & u & 0 & 0 & 0 \\\\\n",
       "0 & 0 & u & 0 & 0 \\\\\n",
       "0 & 0 & 0 & -\\mathit{cs} + u & 0 \\\\\n",
       "0 & 0 & 0 & 0 & \\mathit{cs} + u\n",
       "\\end{array}\\right]</script></html>"
      ],
      "text/plain": [
       "[      u       0       0       0       0]\n",
       "[      0       u       0       0       0]\n",
       "[      0       0       u       0       0]\n",
       "[      0       0       0 -cs + u       0]\n",
       "[      0       0       0       0  cs + u]"
      ]
     },
     "metadata": {},
     "output_type": "display_data"
    },
    {
     "data": {
      "text/html": [
       "<html><script type=\"math/tex; mode=display\">\\newcommand{\\Bold}[1]{\\mathbf{#1}}\\left[\\begin{array}{rrrrr}\n",
       "1 & 0 & 0 & 0 & -\\frac{1}{\\theta} \\\\\n",
       "0 & 0 & 1 & 0 & -\\frac{v}{\\theta} \\\\\n",
       "0 & 0 & 0 & 1 & -\\frac{w}{\\theta} \\\\\n",
       "\\frac{u}{2 \\, \\mathit{cs}} & -\\frac{1}{2 \\, \\mathit{cs}} & 0 & 0 & \\frac{1}{2 \\, \\theta} \\\\\n",
       "-\\frac{u}{2 \\, \\mathit{cs}} & \\frac{1}{2 \\, \\mathit{cs}} & 0 & 0 & \\frac{1}{2 \\, \\theta}\n",
       "\\end{array}\\right]</script></html>"
      ],
      "text/plain": [
       "[        1         0         0         0  -1/theta]\n",
       "[        0         0         1         0  -v/theta]\n",
       "[        0         0         0         1  -w/theta]\n",
       "[ 1/2*u/cs   -1/2/cs         0         0 1/2/theta]\n",
       "[-1/2*u/cs    1/2/cs         0         0 1/2/theta]"
      ]
     },
     "metadata": {},
     "output_type": "display_data"
    },
    {
     "data": {
      "text/html": [
       "<html><script type=\"math/tex; mode=display\">\\newcommand{\\Bold}[1]{\\mathbf{#1}}\\left[\\begin{array}{rrrrr}\n",
       "1 & 0 & 0 & 1 & 1 \\\\\n",
       "u & 0 & 0 & -\\mathit{cs} + u & \\mathit{cs} + u \\\\\n",
       "0 & 1 & 0 & v & v \\\\\n",
       "0 & 0 & 1 & w & w \\\\\n",
       "0 & 0 & 0 & \\theta & \\theta\n",
       "\\end{array}\\right]</script></html>"
      ],
      "text/plain": [
       "[      1       0       0       1       1]\n",
       "[      u       0       0 -cs + u  cs + u]\n",
       "[      0       1       0       v       v]\n",
       "[      0       0       1       w       w]\n",
       "[      0       0       0   theta   theta]"
      ]
     },
     "metadata": {},
     "output_type": "display_data"
    }
   ],
   "source": [
    "# X-DIRECTION CHARACTERISTICS\n",
    "var('rho,u,v,w,theta,p,cs,gamma,C0')\n",
    "\n",
    "assume(cs>0)\n",
    "\n",
    "q = coefs_1d(5,0,'q')\n",
    "f = vector([ rho*u , rho*u*u+p , rho*u*v , rho*u*w, rho*u*theta ])\n",
    "f = f.subs(rho=q0,u=q1/q0,v=q2/q0,w=q3/q0,theta=q4/q0,p=C0*q4^gamma)\n",
    "dfdq = jacobian(f,q)\n",
    "dfdq = dfdq.subs(q0=rho,q1=rho*u,q2=rho*v,q3=rho*w,q4=rho*theta).subs(C0=p/(rho*theta)^gamma).subs(p=cs^2/gamma*rho)\n",
    "Lambda,R = dfdq.eigenmatrix_right()\n",
    "Lambda = Matrix(5,5,Lambda.list())\n",
    "L = (R^-1).simplify_full()\n",
    "\n",
    "show(dfdq.simplify_full())\n",
    "show(Lambda.simplify_full())\n",
    "show(L.simplify_full())\n",
    "show(R.simplify_full())"
   ]
  },
  {
   "cell_type": "code",
   "execution_count": 35,
   "metadata": {},
   "outputs": [
    {
     "data": {
      "text/html": [
       "<html><script type=\"math/tex; mode=display\">\\newcommand{\\Bold}[1]{\\mathbf{#1}}\\left[\\begin{array}{rrrrr}\n",
       "0 & 0 & 1 & 0 & 0 \\\\\n",
       "-u v & v & u & 0 & 0 \\\\\n",
       "-v^{2} & 0 & 2 \\, v & 0 & \\frac{\\mathit{cs}^{2}}{\\theta} \\\\\n",
       "-v w & 0 & w & v & 0 \\\\\n",
       "-\\theta v & 0 & \\theta & 0 & v\n",
       "\\end{array}\\right]</script></html>"
      ],
      "text/plain": [
       "[         0          0          1          0          0]\n",
       "[      -u*v          v          u          0          0]\n",
       "[      -v^2          0        2*v          0 cs^2/theta]\n",
       "[      -v*w          0          w          v          0]\n",
       "[  -theta*v          0      theta          0          v]"
      ]
     },
     "metadata": {},
     "output_type": "display_data"
    },
    {
     "data": {
      "text/html": [
       "<html><script type=\"math/tex; mode=display\">\\newcommand{\\Bold}[1]{\\mathbf{#1}}\\left[\\begin{array}{rrrrr}\n",
       "v & 0 & 0 & 0 & 0 \\\\\n",
       "0 & v & 0 & 0 & 0 \\\\\n",
       "0 & 0 & v & 0 & 0 \\\\\n",
       "0 & 0 & 0 & -\\mathit{cs} + v & 0 \\\\\n",
       "0 & 0 & 0 & 0 & \\mathit{cs} + v\n",
       "\\end{array}\\right]</script></html>"
      ],
      "text/plain": [
       "[      v       0       0       0       0]\n",
       "[      0       v       0       0       0]\n",
       "[      0       0       v       0       0]\n",
       "[      0       0       0 -cs + v       0]\n",
       "[      0       0       0       0  cs + v]"
      ]
     },
     "metadata": {},
     "output_type": "display_data"
    },
    {
     "data": {
      "text/html": [
       "<html><script type=\"math/tex; mode=display\">\\newcommand{\\Bold}[1]{\\mathbf{#1}}\\left[\\begin{array}{rrrrr}\n",
       "1 & 0 & 0 & 0 & -\\frac{1}{\\theta} \\\\\n",
       "0 & 1 & 0 & 0 & -\\frac{u}{\\theta} \\\\\n",
       "0 & 0 & 0 & 1 & -\\frac{w}{\\theta} \\\\\n",
       "\\frac{v}{2 \\, \\mathit{cs}} & 0 & -\\frac{1}{2 \\, \\mathit{cs}} & 0 & \\frac{1}{2 \\, \\theta} \\\\\n",
       "-\\frac{v}{2 \\, \\mathit{cs}} & 0 & \\frac{1}{2 \\, \\mathit{cs}} & 0 & \\frac{1}{2 \\, \\theta}\n",
       "\\end{array}\\right]</script></html>"
      ],
      "text/plain": [
       "[        1         0         0         0  -1/theta]\n",
       "[        0         1         0         0  -u/theta]\n",
       "[        0         0         0         1  -w/theta]\n",
       "[ 1/2*v/cs         0   -1/2/cs         0 1/2/theta]\n",
       "[-1/2*v/cs         0    1/2/cs         0 1/2/theta]"
      ]
     },
     "metadata": {},
     "output_type": "display_data"
    },
    {
     "data": {
      "text/html": [
       "<html><script type=\"math/tex; mode=display\">\\newcommand{\\Bold}[1]{\\mathbf{#1}}\\left[\\begin{array}{rrrrr}\n",
       "1 & 0 & 0 & 1 & 1 \\\\\n",
       "0 & 1 & 0 & u & u \\\\\n",
       "v & 0 & 0 & -\\mathit{cs} + v & \\mathit{cs} + v \\\\\n",
       "0 & 0 & 1 & w & w \\\\\n",
       "0 & 0 & 0 & \\theta & \\theta\n",
       "\\end{array}\\right]</script></html>"
      ],
      "text/plain": [
       "[      1       0       0       1       1]\n",
       "[      0       1       0       u       u]\n",
       "[      v       0       0 -cs + v  cs + v]\n",
       "[      0       0       1       w       w]\n",
       "[      0       0       0   theta   theta]"
      ]
     },
     "metadata": {},
     "output_type": "display_data"
    }
   ],
   "source": [
    "# Y-DIRECTION CHARACTERISTICS\n",
    "var('rho,u,v,w,theta,p,cs,gamma,C0')\n",
    "\n",
    "assume(cs>0)\n",
    "\n",
    "q = coefs_1d(5,0,'q')\n",
    "f = vector([ rho*v , rho*v*u , rho*v*v+p , rho*v*w, rho*v*theta ])\n",
    "f = f.subs(rho=q0,u=q1/q0,v=q2/q0,w=q3/q0,theta=q4/q0,p=C0*q4^gamma)\n",
    "dfdq = jacobian(f,q)\n",
    "dfdq = dfdq.subs(q0=rho,q1=rho*u,q2=rho*v,q3=rho*w,q4=rho*theta).subs(C0=p/(rho*theta)^gamma).subs(p=cs^2/gamma*rho)\n",
    "Lambda,R = dfdq.eigenmatrix_right()\n",
    "Lambda = Matrix(5,5,Lambda.list())\n",
    "L = (R^-1).simplify_full()\n",
    "\n",
    "show(dfdq.simplify_full())\n",
    "show(Lambda.simplify_full())\n",
    "show(L.simplify_full())\n",
    "show(R.simplify_full())"
   ]
  },
  {
   "cell_type": "code",
   "execution_count": 36,
   "metadata": {},
   "outputs": [
    {
     "data": {
      "text/html": [
       "<html><script type=\"math/tex; mode=display\">\\newcommand{\\Bold}[1]{\\mathbf{#1}}\\left[\\begin{array}{rrrrr}\n",
       "0 & 0 & 0 & 1 & 0 \\\\\n",
       "-u w & w & 0 & u & 0 \\\\\n",
       "-v w & 0 & w & v & 0 \\\\\n",
       "-w^{2} & 0 & 0 & 2 \\, w & \\frac{\\mathit{cs}^{2}}{\\theta} \\\\\n",
       "-\\theta w & 0 & 0 & \\theta & w\n",
       "\\end{array}\\right]</script></html>"
      ],
      "text/plain": [
       "[         0          0          0          1          0]\n",
       "[      -u*w          w          0          u          0]\n",
       "[      -v*w          0          w          v          0]\n",
       "[      -w^2          0          0        2*w cs^2/theta]\n",
       "[  -theta*w          0          0      theta          w]"
      ]
     },
     "metadata": {},
     "output_type": "display_data"
    },
    {
     "data": {
      "text/html": [
       "<html><script type=\"math/tex; mode=display\">\\newcommand{\\Bold}[1]{\\mathbf{#1}}\\left[\\begin{array}{rrrrr}\n",
       "w & 0 & 0 & 0 & 0 \\\\\n",
       "0 & w & 0 & 0 & 0 \\\\\n",
       "0 & 0 & w & 0 & 0 \\\\\n",
       "0 & 0 & 0 & -\\mathit{cs} + w & 0 \\\\\n",
       "0 & 0 & 0 & 0 & \\mathit{cs} + w\n",
       "\\end{array}\\right]</script></html>"
      ],
      "text/plain": [
       "[      w       0       0       0       0]\n",
       "[      0       w       0       0       0]\n",
       "[      0       0       w       0       0]\n",
       "[      0       0       0 -cs + w       0]\n",
       "[      0       0       0       0  cs + w]"
      ]
     },
     "metadata": {},
     "output_type": "display_data"
    },
    {
     "data": {
      "text/html": [
       "<html><script type=\"math/tex; mode=display\">\\newcommand{\\Bold}[1]{\\mathbf{#1}}\\left[\\begin{array}{rrrrr}\n",
       "1 & 0 & 0 & 0 & -\\frac{1}{\\theta} \\\\\n",
       "0 & 1 & 0 & 0 & -\\frac{u}{\\theta} \\\\\n",
       "0 & 0 & 1 & 0 & -\\frac{v}{\\theta} \\\\\n",
       "\\frac{w}{2 \\, \\mathit{cs}} & 0 & 0 & -\\frac{1}{2 \\, \\mathit{cs}} & \\frac{1}{2 \\, \\theta} \\\\\n",
       "-\\frac{w}{2 \\, \\mathit{cs}} & 0 & 0 & \\frac{1}{2 \\, \\mathit{cs}} & \\frac{1}{2 \\, \\theta}\n",
       "\\end{array}\\right]</script></html>"
      ],
      "text/plain": [
       "[        1         0         0         0  -1/theta]\n",
       "[        0         1         0         0  -u/theta]\n",
       "[        0         0         1         0  -v/theta]\n",
       "[ 1/2*w/cs         0         0   -1/2/cs 1/2/theta]\n",
       "[-1/2*w/cs         0         0    1/2/cs 1/2/theta]"
      ]
     },
     "metadata": {},
     "output_type": "display_data"
    },
    {
     "data": {
      "text/html": [
       "<html><script type=\"math/tex; mode=display\">\\newcommand{\\Bold}[1]{\\mathbf{#1}}\\left[\\begin{array}{rrrrr}\n",
       "1 & 0 & 0 & 1 & 1 \\\\\n",
       "0 & 1 & 0 & u & u \\\\\n",
       "0 & 0 & 1 & v & v \\\\\n",
       "w & 0 & 0 & -\\mathit{cs} + w & \\mathit{cs} + w \\\\\n",
       "0 & 0 & 0 & \\theta & \\theta\n",
       "\\end{array}\\right]</script></html>"
      ],
      "text/plain": [
       "[      1       0       0       1       1]\n",
       "[      0       1       0       u       u]\n",
       "[      0       0       1       v       v]\n",
       "[      w       0       0 -cs + w  cs + w]\n",
       "[      0       0       0   theta   theta]"
      ]
     },
     "metadata": {},
     "output_type": "display_data"
    }
   ],
   "source": [
    "# Z-DIRECTION CHARACTERISTICS\n",
    "var('rho,u,v,w,theta,p,cs,gamma,C0')\n",
    "\n",
    "assume(cs>0)\n",
    "\n",
    "q = coefs_1d(5,0,'q')\n",
    "f = vector([ rho*w , rho*w*u , rho*w*v , rho*w*w+p, rho*w*theta ])\n",
    "f = f.subs(rho=q0,u=q1/q0,v=q2/q0,w=q3/q0,theta=q4/q0,p=C0*q4^gamma)\n",
    "dfdq = jacobian(f,q)\n",
    "dfdq = dfdq.subs(q0=rho,q1=rho*u,q2=rho*v,q3=rho*w,q4=rho*theta).subs(C0=p/(rho*theta)^gamma).subs(p=cs^2/gamma*rho)\n",
    "Lambda,R = dfdq.eigenmatrix_right()\n",
    "Lambda = Matrix(5,5,Lambda.list())\n",
    "L = (R^-1).simplify_full()\n",
    "\n",
    "show(dfdq.simplify_full())\n",
    "show(Lambda.simplify_full())\n",
    "show(L.simplify_full())\n",
    "show(R.simplify_full())"
   ]
  },
  {
   "cell_type": "code",
   "execution_count": 33,
   "metadata": {},
   "outputs": [
    {
     "data": {
      "text/html": [
       "<html><script type=\"math/tex; mode=display\">\\newcommand{\\Bold}[1]{\\mathbf{#1}}\\left[\\begin{array}{rrrrrr}\n",
       "0 & 1 & 0 & 0 & 0 & 0 \\\\\n",
       "-u^{2} & 2 \\, u & 0 & 0 & 0 & 1 \\\\\n",
       "-u v & v & u & 0 & 0 & 0 \\\\\n",
       "-u w & w & 0 & u & 0 & 0 \\\\\n",
       "-\\theta u & \\theta & 0 & 0 & u & 0\n",
       "\\end{array}\\right]</script></html>"
      ],
      "text/plain": [
       "[       0        1        0        0        0        0]\n",
       "[    -u^2      2*u        0        0        0        1]\n",
       "[    -u*v        v        u        0        0        0]\n",
       "[    -u*w        w        0        u        0        0]\n",
       "[-theta*u    theta        0        0        u        0]"
      ]
     },
     "metadata": {},
     "output_type": "display_data"
    },
    {
     "data": {
      "text/html": [
       "<html><script type=\"math/tex; mode=display\">\\newcommand{\\Bold}[1]{\\mathbf{#1}}\\left[\\begin{array}{rrrrrr}\n",
       "0 & 1 & 0 & 0 & 0 & 0 \\\\\n",
       "-u^{2} & 2 \\, u & 0 & 0 & 0 & 1 \\\\\n",
       "-u v & v & u & 0 & 0 & 0 \\\\\n",
       "-u w & w & 0 & u & 0 & 0 \\\\\n",
       "-\\theta u & \\theta & 0 & 0 & u & 0 \\\\\n",
       "-c_{s}^{2} u & c_{s}^{2} & 0 & 0 & \\frac{c_{s}^{2} u}{\\theta} & 0\n",
       "\\end{array}\\right]</script></html>"
      ],
      "text/plain": [
       "[            0             1             0             0             0             0]\n",
       "[         -u^2           2*u             0             0             0             1]\n",
       "[         -u*v             v             u             0             0             0]\n",
       "[         -u*w             w             0             u             0             0]\n",
       "[     -theta*u         theta             0             0             u             0]\n",
       "[     -c_s^2*u         c_s^2             0             0 c_s^2*u/theta             0]"
      ]
     },
     "metadata": {},
     "output_type": "display_data"
    },
    {
     "data": {
      "text/html": [
       "<html><script type=\"math/tex; mode=display\">\\newcommand{\\Bold}[1]{\\mathbf{#1}}\\left[\\begin{array}{rrrrrr}\n",
       "u & 0 & 0 & 0 & 0 & 0 \\\\\n",
       "0 & u & 0 & 0 & 0 & 0 \\\\\n",
       "0 & 0 & u & 0 & 0 & 0 \\\\\n",
       "0 & 0 & 0 & -c_{s} + u & 0 & 0 \\\\\n",
       "0 & 0 & 0 & 0 & c_{s} + u & 0 \\\\\n",
       "0 & 0 & 0 & 0 & 0 & 0\n",
       "\\end{array}\\right]</script></html>"
      ],
      "text/plain": [
       "[       u        0        0        0        0        0]\n",
       "[       0        u        0        0        0        0]\n",
       "[       0        0        u        0        0        0]\n",
       "[       0        0        0 -c_s + u        0        0]\n",
       "[       0        0        0        0  c_s + u        0]\n",
       "[       0        0        0        0        0        0]"
      ]
     },
     "metadata": {},
     "output_type": "display_data"
    },
    {
     "data": {
      "text/html": [
       "<html><script type=\"math/tex; mode=display\">\\newcommand{\\Bold}[1]{\\mathbf{#1}}\\left[\\begin{array}{rrrrrr}\n",
       "1 & 0 & 0 & 0 & -\\frac{1}{\\theta} & 0 \\\\\n",
       "0 & 0 & 1 & 0 & -\\frac{v}{\\theta} & 0 \\\\\n",
       "0 & 0 & 0 & 1 & -\\frac{w}{\\theta} & 0 \\\\\n",
       "\\frac{u}{2 \\, c_{s}} & -\\frac{1}{2 \\, c_{s}} & 0 & 0 & -\\frac{u}{2 \\, {\\left(c_{s} \\theta - \\theta u\\right)}} & \\frac{1}{2 \\, {\\left(c_{s}^{2} - c_{s} u\\right)}} \\\\\n",
       "-\\frac{u}{2 \\, c_{s}} & \\frac{1}{2 \\, c_{s}} & 0 & 0 & \\frac{u}{2 \\, {\\left(c_{s} \\theta + \\theta u\\right)}} & \\frac{1}{2 \\, {\\left(c_{s}^{2} + c_{s} u\\right)}} \\\\\n",
       "0 & 0 & 0 & 0 & 0 & 0\n",
       "\\end{array}\\right]</script></html>"
      ],
      "text/plain": [
       "[                           1                            0                            0                            0                     -1/theta                            0]\n",
       "[                           0                            0                            1                            0                     -v/theta                            0]\n",
       "[                           0                            0                            0                            1                     -w/theta                            0]\n",
       "[                   1/2*u/c_s                     -1/2/c_s                            0                            0 -1/2*u/(c_s*theta - theta*u)          1/2/(c_s^2 - c_s*u)]\n",
       "[                  -1/2*u/c_s                      1/2/c_s                            0                            0  1/2*u/(c_s*theta + theta*u)          1/2/(c_s^2 + c_s*u)]\n",
       "[                           0                            0                            0                            0                            0                            0]"
      ]
     },
     "metadata": {},
     "output_type": "display_data"
    },
    {
     "data": {
      "text/html": [
       "<html><script type=\"math/tex; mode=display\">\\newcommand{\\Bold}[1]{\\mathbf{#1}}\\left[\\begin{array}{rrrrrr}\n",
       "1 & 0 & 0 & 1 & 1 & 0 \\\\\n",
       "u & 0 & 0 & -c_{s} + u & c_{s} + u & 0 \\\\\n",
       "0 & 1 & 0 & v & v & 0 \\\\\n",
       "0 & 0 & 1 & w & w & 0 \\\\\n",
       "0 & 0 & 0 & \\theta & \\theta & 0 \\\\\n",
       "0 & 0 & 0 & c_{s}^{2} & c_{s}^{2} & 0\n",
       "\\end{array}\\right]</script></html>"
      ],
      "text/plain": [
       "[       1        0        0        1        1        0]\n",
       "[       u        0        0 -c_s + u  c_s + u        0]\n",
       "[       0        1        0        v        v        0]\n",
       "[       0        0        1        w        w        0]\n",
       "[       0        0        0    theta    theta        0]\n",
       "[       0        0        0    c_s^2    c_s^2        0]"
      ]
     },
     "metadata": {},
     "output_type": "display_data"
    },
    {
     "data": {
      "text/html": [
       "<html><script type=\"math/tex; mode=display\">\\newcommand{\\Bold}[1]{\\mathbf{#1}}\\left[\\begin{array}{rrrrrr}\n",
       "0 & 0 & 0 & 0 & 0 & 0 \\\\\n",
       "0 & 0 & 0 & 0 & 0 & 0 \\\\\n",
       "0 & 0 & 0 & 0 & 0 & 0 \\\\\n",
       "0 & 0 & 0 & 0 & 0 & 0 \\\\\n",
       "0 & 0 & 0 & 0 & 0 & 0 \\\\\n",
       "0 & 0 & 0 & 0 & 0 & 0\n",
       "\\end{array}\\right]</script></html>"
      ],
      "text/plain": [
       "[0 0 0 0 0 0]\n",
       "[0 0 0 0 0 0]\n",
       "[0 0 0 0 0 0]\n",
       "[0 0 0 0 0 0]\n",
       "[0 0 0 0 0 0]\n",
       "[0 0 0 0 0 0]"
      ]
     },
     "metadata": {},
     "output_type": "display_data"
    }
   ],
   "source": [
    "# X-DIRECTION CHARACTERISTICS SPLIT-EXPLICIT\n",
    "var('rho,u,v,w,theta,p,c_s,gamma,C0')\n",
    "\n",
    "assume(c_s>0)\n",
    "\n",
    "q = coefs_1d(6,0,'q')\n",
    "f = vector([ rho*u , rho*u*u+p , rho*u*v , rho*u*w, rho*u*theta ])\n",
    "f = f.subs(rho=q0,u=q1/q0,v=q2/q0,w=q3/q0,theta=q4/q0,p=q5)\n",
    "dfdq = jacobian(f,q)\n",
    "dfdq = dfdq.subs(q0=rho,q1=rho*u,q2=rho*v,q3=rho*w,q4=rho*theta).subs(C0=p/(rho*theta)^gamma)\n",
    "show(dfdq)\n",
    "\n",
    "dfdq = Matrix(6,6,[0,1,0,0,0,0,-u^2,2*u,0,0,0,1,-u*v,v,u,0,0,0,-u*w,w,0,u,0,0,-theta*u,theta,0,0,u,0,-theta*u*(c_s^2/theta),theta*(c_s^2/theta),0,0,u*(c_s^2/theta),0])\n",
    "\n",
    "Lambda,R = dfdq.eigenmatrix_right()\n",
    "Lambda = Matrix(6,6,Lambda.list()).simplify_full()\n",
    "R = R.simplify_full()\n",
    "L = (R^-1).simplify_full()\n",
    "L[5,:] = 0\n",
    "R[:,5] = 0\n",
    "\n",
    "show(dfdq.simplify_full())\n",
    "show(Lambda.simplify_full())\n",
    "show(L.simplify_full())\n",
    "show(R.simplify_full())\n",
    "show((R*Lambda*L - dfdq).simplify_full())\n"
   ]
  },
  {
   "cell_type": "code",
   "execution_count": null,
   "metadata": {},
   "outputs": [],
   "source": []
  }
 ],
 "metadata": {
  "kernelspec": {
   "display_name": "SageMath 8.7",
   "language": "",
   "name": "sagemath"
  },
  "language_info": {
   "codemirror_mode": {
    "name": "ipython",
    "version": 2
   },
   "file_extension": ".py",
   "mimetype": "text/x-python",
   "name": "python",
   "nbconvert_exporter": "python",
   "pygments_lexer": "ipython2",
   "version": "2.7.15"
  }
 },
 "nbformat": 4,
 "nbformat_minor": 2
}
